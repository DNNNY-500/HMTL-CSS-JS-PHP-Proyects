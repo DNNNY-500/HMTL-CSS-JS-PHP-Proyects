{
 "cells": [
  {
   "attachments": {},
   "cell_type": "markdown",
   "metadata": {},
   "source": [
    "### Esta es una celda de comentarios...\n",
    "- No sé usar JupyterNotebooks XD\n",
    "- Cómo creo una tupla? Usando python"
   ]
  },
  {
   "cell_type": "code",
   "execution_count": 35,
   "metadata": {},
   "outputs": [
    {
     "name": "stdout",
     "output_type": "stream",
     "text": [
      "<class 'tuple'> 3\n",
      "('a', 'b', 'c')\n"
     ]
    }
   ],
   "source": [
    "#Define una tupla con 3 elementos\n",
    "ñ = (\"a\", \"b\", \"c\")\n",
    "\n",
    "#Imprimir el tipo de dato y la longitud de la tupla\n",
    "print(type(ñ), len(ñ))\n",
    "print(ñ) #Imprime la tupla"
   ]
  },
  {
   "cell_type": "code",
   "execution_count": 36,
   "metadata": {},
   "outputs": [
    {
     "name": "stdout",
     "output_type": "stream",
     "text": [
      "elemento:  a\n",
      "elemento:  b\n",
      "elemento:  c\n"
     ]
    }
   ],
   "source": [
    "#Imprimir los elementos de la tupla\n",
    "for i in ñ:\n",
    "    print(\"elemento: \", i)"
   ]
  },
  {
   "attachments": {},
   "cell_type": "markdown",
   "metadata": {},
   "source": [
    "## Importante:\n",
    "### Importante destacar que para empezar a crear código HTML aunque la celda de código sea HTML se debe usar el comando %%html\n",
    "### De lo contrario no funcionará el código HTML..."
   ]
  },
  {
   "cell_type": "code",
   "execution_count": 37,
   "metadata": {
    "vscode": {
     "languageId": "html"
    }
   },
   "outputs": [
    {
     "data": {
      "text/html": [
       "<!DOCTYPE html>\n",
       "<html>\n",
       "    <!-- Esteban Flores Martínez -->\n",
       "    <!-- Creamos un HTML para testear en JupyterNotebooks -->\n",
       "    <head>\n",
       "        <meta charset=\"utf-8\">\n",
       "        <title>Titulo</title>\n",
       "    </head>\n",
       "    <body>\n",
       "        <!-- Una página simple con un input text, un botón y un DIV de salida -->\n",
       "        <input id=\"txt\" type=\"text\" placeholder=\"Inserte texto:\">\n",
       "        <button id=\"btn\" onclick=\"mensaje();\">mostrar</button>\n",
       "        <div id=\"salida\"></div>\n",
       "        <script type=\"text/javascript\">\n",
       "            //Script que contiene la función mensaje()\n",
       "            function mensaje(){\n",
       "                var input = document.getElementById(\"txt\").value;\n",
       "                var output = document.getElementById(\"salida\");\n",
       "\n",
       "                output.innerHTML = input;\n",
       "            }\n",
       "        </script>\n",
       "    </body>\n",
       "</html>\n"
      ],
      "text/plain": [
       "<IPython.core.display.HTML object>"
      ]
     },
     "metadata": {},
     "output_type": "display_data"
    }
   ],
   "source": [
    "%%html\n",
    "<!DOCTYPE html>\n",
    "<html>\n",
    "    <!-- Esteban Flores Martínez -->\n",
    "    <!-- Creamos un HTML para testear en JupyterNotebooks -->\n",
    "    <head>\n",
    "        <meta charset=\"utf-8\">\n",
    "        <title>Titulo</title>\n",
    "    </head>\n",
    "    <body>\n",
    "        <!-- Una página simple con un input text, un botón y un DIV de salida -->\n",
    "        <input id=\"txt\" type=\"text\" placeholder=\"Inserte texto:\">\n",
    "        <button id=\"btn\" onclick=\"mensaje();\">mostrar</button>\n",
    "        <div id=\"salida\"></div>\n",
    "        <script type=\"text/javascript\">\n",
    "            //Script que contiene la función mensaje()\n",
    "            function mensaje(){\n",
    "                var input = document.getElementById(\"txt\").value;\n",
    "                var output = document.getElementById(\"salida\");\n",
    "\n",
    "                output.innerHTML = input;\n",
    "            }\n",
    "        </script>\n",
    "    </body>\n",
    "</html>"
   ]
  },
  {
   "attachments": {},
   "cell_type": "markdown",
   "metadata": {},
   "source": [
    "### Test de JavaScript en JupyterNotebooks\n",
    "#### Requiere el comando %%js o %%javascript\n",
    "###### A ultimas no funcionó ._.\n",
    "##### Tendré que correr el script en un HTML con etiquetas <script></script>"
   ]
  },
  {
   "cell_type": "code",
   "execution_count": 3,
   "metadata": {
    "vscode": {
     "languageId": "html"
    }
   },
   "outputs": [
    {
     "data": {
      "text/html": [
       "<!DOCTYPE html>\n",
       "<html>\n",
       "    <!-- HTML solo para usar el script -->\n",
       "    <head>\n",
       "        <meta charset=\"utf-8\">\n",
       "        <title>Script</title>\n",
       "    </head>\n",
       "    <body>\n",
       "        <p>No content, just the script...</p>\n",
       "        <button id=\"run\" onclick=\"run();\">run script</button>\n",
       "        <script type=\"text/javascript\">\n",
       "            //Función necesaria para correr el script\n",
       "            function run(){\n",
       "                //Pedimos al usuario un número entero positivo o negativo:\n",
       "                var num = prompt(\"Ingrese un número:\");\n",
       "    \n",
       "                //Creamos una RegEx para validar el número:\n",
       "                const regEx = /(+|-)?\\d*/;\n",
       "    \n",
       "                if(regEx.test(num)){\n",
       "                    alert(\"Es un número entero válido.\");\n",
       "                }else{\n",
       "                    alert(\"No es un número entero válido.\");\n",
       "                }\n",
       "            }\n",
       "        </script>\n",
       "    </body>\n",
       "</html>\n"
      ],
      "text/plain": [
       "<IPython.core.display.HTML object>"
      ]
     },
     "metadata": {},
     "output_type": "display_data"
    }
   ],
   "source": [
    "%%html\n",
    "<!DOCTYPE html>\n",
    "<html>\n",
    "    <!-- HTML solo para usar el script -->\n",
    "    <head>\n",
    "        <meta charset=\"utf-8\">\n",
    "        <title>Script</title>\n",
    "    </head>\n",
    "    <body>\n",
    "        <p>No content, just the script...</p>\n",
    "        <button id=\"run\" onclick=\"run();\">run script</button>\n",
    "        <script type=\"text/javascript\">\n",
    "            //Función necesaria para correr el script\n",
    "            function run(){\n",
    "                //Pedimos al usuario un número entero positivo o negativo:\n",
    "                var num = prompt(\"Ingrese un número:\");\n",
    "    \n",
    "                //Creamos una RegEx para validar el número:\n",
    "                const regEx = /(+|-)?\\d*/;\n",
    "    \n",
    "                if(regEx.test(num)){\n",
    "                    alert(\"Es un número entero válido.\");\n",
    "                }else{\n",
    "                    alert(\"No es un número entero válido.\");\n",
    "                }\n",
    "            }\n",
    "        </script>\n",
    "    </body>\n",
    "</html>"
   ]
  },
  {
   "attachments": {},
   "cell_type": "markdown",
   "metadata": {},
   "source": [
    "# Tipos de titulos: nivel 1\n",
    "## Tipos de titulos: nivel 2\n",
    "### Tipos de titulos: nivel 3\n",
    "#### Tipos de titulos: nivel 4\n",
    "##### Tipos de titulos: nivel 5\n",
    "###### Tipos de titulos: nivel 6\n",
    "\n",
    "- Elementos de lista\n",
    "- Elementos de lista\n",
    "- Elementos de lista\n",
    "\n",
    "1. Lista enumerada\n",
    "2. Lista enumerada\n",
    "3. Lista enumerada\n",
    "\n",
    "- **Negritas**    Preferente\n",
    "- __Negritas__\n",
    "- *Cursiva*\n",
    "- _Cursiva_   Preferente\n",
    "\n",
    "Tablas:\n",
    "| Columna 1 | Columna 2 | Columna 3 |\n",
    "| --------- | --------- | --------- |\n",
    "| Valor 1   | Valor 2   | Valor 3   |\n",
    "| Valor 4   | Valor 5   | Valor 6   |\n",
    "\n",
    "- [Enlace](https://www.youtube.com/watch?v=dQw4w9WgXcQ)\n",
    "- ![Imagen](https://www.elsoldemexico.com.mx/gossip/celebridades/ngu0dz-_rick-astley-recrea-never-gonna-give-you-up-.png/ALTERNATES/LANDSCAPE_1140/_Rick%20Astley%20recrea%20%E2%80%9CNever%20Gonna%20Give%20You%20Up%E2%80%9D%20.png)"
   ]
  },
  {
   "attachments": {},
   "cell_type": "markdown",
   "metadata": {},
   "source": [
    "### Código insertado en Markdown LOL\n",
    "\n",
    "```python\n",
    "# Esto es un bloque de código en Python\n",
    "def omg(texto):\n",
    "    print(texto)\n",
    "```\n",
    "\n",
    "`print(\"Esto es código en una sola línea\")`"
   ]
  }
 ],
 "metadata": {
  "kernelspec": {
   "display_name": "Python 3 (ipykernel)",
   "language": "python",
   "name": "python3"
  },
  "language_info": {
   "codemirror_mode": {
    "name": "ipython",
    "version": 3
   },
   "file_extension": ".py",
   "mimetype": "text/x-python",
   "name": "python",
   "nbconvert_exporter": "python",
   "pygments_lexer": "ipython3",
   "version": "3.11.3"
  }
 },
 "nbformat": 4,
 "nbformat_minor": 4
}
